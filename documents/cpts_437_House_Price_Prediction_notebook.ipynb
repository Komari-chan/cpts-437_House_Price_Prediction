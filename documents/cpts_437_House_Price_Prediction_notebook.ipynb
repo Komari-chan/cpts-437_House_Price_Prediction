{
  "nbformat": 4,
  "nbformat_minor": 0,
  "metadata": {
    "colab": {
      "provenance": []
    },
    "kernelspec": {
      "name": "python3",
      "display_name": "Python 3"
    },
    "language_info": {
      "name": "python"
    }
  },
  "cells": [
    {
      "cell_type": "markdown",
      "source": [
        "This guide explains how to set up and demonstrate your project in Google Colab. The project folder contains the following components:\n",
        "\n",
        "# 1. Project Files:\n",
        "\n",
        "CPTS_437_data: This folder includes the source and processed data. Specifically, the file whitman_property_details.csv contains the processed dataset.\n",
        "\n",
        "test folder: This contains various files, including price_predict.rmd, which is the R Markdown file you need to run in RStudio.\n",
        "\n",
        "# 2. Steps to Run the Code:\n",
        "\n",
        "Open RStudio and load the price_predict.rmd file from the test folder.\n",
        "\n",
        "Install the required R libraries before running the script. Use the following installation commands:\n",
        "\n"
      ],
      "metadata": {
        "id": "UOXUyIbXk5lY"
      }
    },
    {
      "cell_type": "code",
      "source": [
        "install.packages(\"tidyverse\")\n",
        "install.packages(\"caret\")\n",
        "install.packages(\"gbm\")\n",
        "install.packages(\"xgboost\")\n",
        "install.packages(\"randomForest\")\n",
        "install.packages(\"ggplot2\")"
      ],
      "metadata": {
        "id": "_8SsfwUUlHfz"
      },
      "execution_count": null,
      "outputs": []
    },
    {
      "cell_type": "markdown",
      "source": [
        "\n",
        "\n",
        "# 3. Modify File Path:\n",
        "\n",
        "Locate line 27 in the RMarkdown file where the data is loaded:\n",
        "\n",
        "housing_data <- read.csv(\"C:/Users/skyli/Desktop/437/CPTS_437_data/whitman_property_details.csv\")\n",
        "\n",
        "Replace \"C:/Users/skyli/Desktop/437/CPTS_437_data/whitman_property_details.csv\"\n",
        "\n",
        "with the actual path to your whitman_property_details.csv file on your system.\n",
        "\n",
        "# 4. Generate Output:\n",
        "\n",
        "After confirming the file path and running the script, click Knit in RStudio to generate the output as a PDF file."
      ],
      "metadata": {
        "id": "QVns5FT9lLHr"
      }
    }
  ]
}